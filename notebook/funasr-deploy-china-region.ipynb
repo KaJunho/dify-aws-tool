{
 "cells": [
  {
   "cell_type": "markdown",
   "id": "7060c891-cebd-4011-b350-b7d1e70b40b2",
   "metadata": {
    "tags": []
   },
   "source": [
    "### 1. 安装依赖 & 变量设置"
   ]
  },
  {
   "metadata": {},
   "cell_type": "code",
   "outputs": [],
   "execution_count": null,
   "source": [
    "# Image: PyTorch 2.0.0 Python 3.10 CPU Optimized\n",
    "# Kernel: Python3"
   ],
   "id": "b19ada63480b9e04"
  },
  {
   "cell_type": "code",
   "execution_count": null,
   "id": "9f413314-c410-43d3-bb3a-ba0aa18ec1be",
   "metadata": {
    "tags": []
   },
   "outputs": [],
   "source": [
    "!pip install huggingface-hub -Uqq\n",
    "!pip install -Uqq sagemaker \n",
    "!pip install -Uqq soundfile -i https://pypi.tuna.tsinghua.edu.cn/simple"
   ]
  },
  {
   "cell_type": "code",
   "execution_count": null,
   "id": "7f4e14b9-f4aa-453c-9b91-adc6161285e9",
   "metadata": {
    "tags": []
   },
   "outputs": [],
   "source": [
    "!pip install -Uqq datasets urlparse -i https://pypi.tuna.tsinghua.edu.cn/simple"
   ]
  },
  {
   "cell_type": "code",
   "execution_count": null,
   "id": "5e1873f4-1bfe-4146-8297-584e9ad76fc9",
   "metadata": {
    "tags": []
   },
   "outputs": [],
   "source": [
    "import sagemaker\n",
    "from sagemaker import image_uris\n",
    "import boto3\n",
    "import os\n",
    "import time\n",
    "import json\n",
    "\n",
    "role = sagemaker.get_execution_role()  # execution role for the endpoint\n",
    "sess = sagemaker.session.Session()  # sagemaker session for interacting with different AWS APIs\n",
    "bucket = sess.default_bucket()  # bucket to house artifacts\n",
    "\n",
    "region = sess._region_name\n",
    "account_id = sess.account_id()\n",
    "\n",
    "s3_client = boto3.client(\"s3\")\n",
    "sm_client = boto3.client(\"sagemaker\")\n",
    "smr_client = boto3.client(\"sagemaker-runtime\")"
   ]
  },
  {
   "cell_type": "code",
   "execution_count": null,
   "id": "bea02e5c-fff2-430e-bef5-589dd2aa8900",
   "metadata": {
    "tags": []
   },
   "outputs": [],
   "source": [
    "from pathlib import Path\n",
    "\n",
    "local_model_path = Path(\"./funasr_model\")\n",
    "local_model_path.mkdir(exist_ok=True)\n",
    "s3_code_prefix = \"aigc-asr-models\""
   ]
  },
  {
   "cell_type": "markdown",
   "id": "59f35a6f-5988-42ec-87b0-de36eaebe41b",
   "metadata": {
    "tags": []
   },
   "source": [
    "### 2. 模型部署准备（entrypoint脚本，容器镜像，服务配置）"
   ]
  },
  {
   "cell_type": "code",
   "execution_count": null,
   "id": "86daea77-a7ae-46b8-8800-212d07ce5605",
   "metadata": {
    "tags": []
   },
   "outputs": [],
   "source": [
    "inference_image_uri = (\n",
    "        f\"727897471807.dkr.ecr.{region}.amazonaws.com.cn/huggingface-pytorch-inference:2.0.0-transformers4.28.1-gpu-py310-cu118-ubuntu20.04\"\n",
    "    )\n",
    "\n",
    "print(f\"Image going to be used is ---- > {inference_image_uri}\")"
   ]
  },
  {
   "cell_type": "code",
   "execution_count": null,
   "id": "49435172-e6c5-492a-8dcb-43e3fffb0f5c",
   "metadata": {
    "tags": []
   },
   "outputs": [],
   "source": [
    "!mkdir -p code"
   ]
  },
  {
   "cell_type": "code",
   "execution_count": null,
   "id": "f2255375-edff-4973-8331-7996e35aa685",
   "metadata": {
    "tags": []
   },
   "outputs": [],
   "source": [
    "%%writefile ./code/inference.py\n",
    "import os\n",
    "import io\n",
    "import sys\n",
    "import time\n",
    "import json\n",
    "import logging\n",
    "import torch\n",
    "import boto3\n",
    "import ffmpeg\n",
    "import torchaudio\n",
    "import requests\n",
    "\n",
    "from urllib.parse import urlparse, unquote\n",
    "from funasr import AutoModel\n",
    "from funasr.utils.postprocess_utils import rich_transcription_postprocess\n",
    "\n",
    "device = \"cuda:0\" if torch.cuda.is_available() else \"cpu\"\n",
    "chunk_length_s = int(os.environ.get('chunk_length_s'))\n",
    "\n",
    "def download_file_from_s3_url(url, local_dir ='/tmp'):\n",
    "    # 发送 GET 请求到预签名 URL\n",
    "    response = requests.get(url)\n",
    "\n",
    "    # 检查请求是否成功\n",
    "    if response.status_code == 200:\n",
    "        # 如果没有提供本地路径，尝试从 URL 或头信息中获取文件名\n",
    "        parsed_url = urlparse(url)\n",
    "        filename = os.path.basename(unquote(parsed_url.path))\n",
    "\n",
    "        local_path = f\"{local_dir}/{filename}\"\n",
    "        # 将内容写入本地文件\n",
    "        with open(local_path, 'wb') as f:\n",
    "            f.write(response.content)\n",
    "\n",
    "        print(f\"File successfully downloaded to {local_path}\")\n",
    "        return local_path\n",
    "    else:\n",
    "        print(f\"Failed to download file. Status code: {response.status_code}\")\n",
    "        return None\n",
    "\n",
    "def model_fn(model_dir,context=None):\n",
    "    print(f\"input_model_dir: {model_dir}\")\n",
    "    model = AutoModel(\n",
    "        model=model_dir,\n",
    "        trust_remote_code=True,\n",
    "        vad_kwargs={\"max_single_segment_time\": chunk_length_s},\n",
    "        device=\"cuda:0\",\n",
    "        hub=\"ms\", # hub=\"ms\" for China region\n",
    "    )\n",
    "    return model\n",
    "\n",
    "def transform_fn(model, request_body, request_content_type, response_content_type=\"application/json\"):\n",
    "    request = json.loads(request_body)\n",
    "    audio_s3_presign_uri = request.get(\"audio_s3_presign_uri\")\n",
    "    \n",
    "    if not audio_s3_presign_uri:\n",
    "        return {\"error\" : \"No input passed.\"}\n",
    "    local_file_path = download_file_from_s3_url(audio_s3_presign_uri)\n",
    "    \n",
    "    if not local_file_path:\n",
    "        return {\"error\" : \"No Audio downloaded.\"}\n",
    "    \n",
    "    res = model.generate(\n",
    "        input=local_file_path,\n",
    "        cache={},\n",
    "        language=\"auto\",  # \"zn\", \"en\", \"yue\", \"ja\", \"ko\", \"nospeech\"\n",
    "        use_itn=True,\n",
    "        batch_size_s=60,\n",
    "        merge_vad=True,  #\n",
    "        merge_length_s=15,\n",
    "    )\n",
    "    \n",
    "    text = rich_transcription_postprocess(res[0][\"text\"])\n",
    "    \n",
    "    result = {\"text\" : text}\n",
    "    \n",
    "    os.remove(local_file_path)\n",
    "    \n",
    "    return json.dumps(result)"
   ]
  },
  {
   "cell_type": "markdown",
   "id": "e1434f9a-f114-4f83-a103-04fde82cb307",
   "metadata": {},
   "source": [
    "#### 执行下面这个cell，在requirements.txt中添加国内的pip镜像"
   ]
  },
  {
   "cell_type": "code",
   "execution_count": null,
   "id": "38bf548e-fb01-4951-b49f-15a91c61fb2e",
   "metadata": {
    "tags": []
   },
   "outputs": [],
   "source": [
    "%%writefile ./code/requirements.txt\n",
    "-i https://pypi.tuna.tsinghua.edu.cn/simple\n",
    "torch>=1.13\n",
    "torchaudio\n",
    "ffmpeg-python\n",
    "funasr"
   ]
  },
  {
   "cell_type": "code",
   "execution_count": null,
   "id": "bcd51c9a-e9e6-409f-bc22-41f4879e36b1",
   "metadata": {
    "tags": []
   },
   "outputs": [],
   "source": [
    "# 1. 首先安装必要的库\n",
    "!pip install -U funasr modelscope -i https://pypi.tuna.tsinghua.edu.cn/simple"
   ]
  },
  {
   "cell_type": "code",
   "execution_count": null,
   "id": "5b986bc0-99cf-4846-914a-b0da44fdbb48",
   "metadata": {
    "tags": []
   },
   "outputs": [],
   "source": [
    "# 2. 下载模型文件\n",
    "from modelscope import snapshot_download\n",
    "model_id = \"iic/SenseVoiceSmall\"\n",
    "local_model_path = \"./funasr_model\"\n",
    "\n",
    "# 下载模型文件\n",
    "snapshot_download(\n",
    "    model_id=model_id,\n",
    "    local_dir=local_model_path,\n",
    "    ignore_patterns=[\"*.md\", \".git*\"]\n",
    ")"
   ]
  },
  {
   "cell_type": "code",
   "execution_count": null,
   "id": "b752f40d-43be-454c-b5ad-e67688699e87",
   "metadata": {
    "tags": []
   },
   "outputs": [],
   "source": [
    "# 3. 打包模型文件\n",
    "!tar -czf model.tar.gz -C {local_model_path} .\n",
    "\n",
    "# 4. 检查打包的文件大小\n",
    "!ls -lh model.tar.gz"
   ]
  },
  {
   "cell_type": "code",
   "execution_count": null,
   "id": "ffe41472-c2cf-4bb5-99aa-84df76c629b3",
   "metadata": {
    "tags": []
   },
   "outputs": [],
   "source": [
    "# !rm funasr_model.tar.gz\n",
    "# !touch dummy\n",
    "# !tar czvf model.tar.gz dummy"
   ]
  },
  {
   "cell_type": "code",
   "execution_count": null,
   "id": "1fabd7ce-b855-4569-857c-ad872662800b",
   "metadata": {
    "tags": []
   },
   "outputs": [],
   "source": [
    "model_uri = sess.upload_data(\"model.tar.gz\", bucket, s3_code_prefix)\n",
    "print(f\"S3 Code or Model tar ball uploaded to --- > {model_uri}\")"
   ]
  },
  {
   "cell_type": "markdown",
   "id": "18fb01ed-6bd3-4880-a647-cfd71e692820",
   "metadata": {
    "tags": []
   },
   "source": [
    "### 3. 创建模型 & 创建endpoint"
   ]
  },
  {
   "cell_type": "code",
   "execution_count": null,
   "id": "e6209d24-8473-4256-93d3-02e4e144386b",
   "metadata": {
    "tags": []
   },
   "outputs": [],
   "source": [
    "from sagemaker.huggingface.model import HuggingFaceModel\n",
    "\n",
    "model_name = \"FunASR-SenseVoiceSmall\"\n",
    "\n",
    "funasr_hf_model = HuggingFaceModel(\n",
    "    model_data=model_uri,\n",
    "    role=role,\n",
    "    image_uri=inference_image_uri,\n",
    "    entry_point=\"inference.py\",\n",
    "    source_dir='./code',\n",
    "    name=model_name,\n",
    "    env={\n",
    "        \"chunk_length_s\" : \"30\",\n",
    "        \"MMS_DEFAULT_RESPONSE_TIMEOUT\": \"500\",  # 设置模型服务器超时（秒）\n",
    "        \"SAGEMAKER_MODEL_SERVER_TIMEOUT\": \"500\"  # 设置SageMaker模型服务器超时\n",
    "    }\n",
    ")"
   ]
  },
  {
   "cell_type": "code",
   "execution_count": null,
   "id": "f4c1df06-ae4a-42e2-9695-da0afa9ad734",
   "metadata": {
    "tags": []
   },
   "outputs": [],
   "source": [
    "from sagemaker.serializers import JSONSerializer\n",
    "from sagemaker.deserializers import JSONDeserializer\n",
    "\n",
    "endpoint_name = f'{account_id}-funasr-real-time-endpoint'\n",
    "\n",
    "real_time_predictor = funasr_hf_model.deploy(\n",
    "    initial_instance_count=1,\n",
    "    instance_type=\"ml.g4dn.xlarge\",\n",
    "    endpoint_name=endpoint_name,\n",
    "    serializer=JSONSerializer(),\n",
    "    deserializer=JSONDeserializer()\n",
    ")"
   ]
  },
  {
   "cell_type": "markdown",
   "id": "dddba20e-fc18-480d-9940-ae39695ac450",
   "metadata": {},
   "source": [
    "### 4. 模型测试"
   ]
  },
  {
   "cell_type": "markdown",
   "id": "e296410f-9bbc-410e-a2aa-f7dc8e30be4e",
   "metadata": {},
   "source": [
    "##### 4.1 下载一个音频文件，并上传到S3"
   ]
  },
  {
   "cell_type": "code",
   "execution_count": null,
   "id": "1f28db25-6996-440c-b004-14f96cfd982d",
   "metadata": {
    "tags": []
   },
   "outputs": [],
   "source": [
    "# 下载一个Audio\n",
    "import soundfile as sf\n",
    "from datasets import load_dataset\n",
    "dataset = load_dataset('MLCommons/peoples_speech', split='train', streaming = True)\n",
    "sample = next(iter(dataset))\n",
    "audio_data = sample['audio']['array']\n",
    "output_path = 'sample_audio.wav'\n",
    "sf.write(output_path, audio_data, sample['audio']['sampling_rate'])\n",
    "\n",
    "print(f\"Audio sample saved to '{output_path}'.\")\n",
    "\n",
    "import json\n",
    "# Perform real-time inference\n",
    "audio_path = \"sample_audio.wav\"\n",
    "\n",
    "print(response[0])"
   ]
  },
  {
   "cell_type": "code",
   "execution_count": null,
   "id": "e2a5bf7f-85a6-4099-b8c7-655599ae1df7",
   "metadata": {
    "tags": []
   },
   "outputs": [],
   "source": [
    "# !aws s3 cp ./99aaadae-7057-46d5-9802-9b578bef10ab.mp3 s3://sagemaker-cn-northwest-1-284567523170/aigc-asr-models/\n",
    "s3_audio_url = sess.upload_data(audio_path, bucket, s3_code_prefix)\n",
    "print(s3_audio_url)"
   ]
  },
  {
   "cell_type": "markdown",
   "id": "748ec03c-3688-42df-91e8-31f1b776e2e2",
   "metadata": {},
   "source": [
    "##### 4.2 生成S3 Presign URL，并发送请求"
   ]
  },
  {
   "cell_type": "code",
   "execution_count": null,
   "id": "4e12ea2d-6eff-4cd4-b249-d8157532620e",
   "metadata": {
    "tags": []
   },
   "outputs": [],
   "source": [
    "def generate_presigned_url(s3_uri, expiration=3600):\n",
    "    \"\"\"\n",
    "    Generate a presigned URL for the S3 object\n",
    "\n",
    "    :param s3_uri: The S3 URI of the object\n",
    "    :param expiration: Time in seconds for the presigned URL to remain valid\n",
    "    :return: Presigned URL as string. If error, returns None.\n",
    "    \"\"\"\n",
    "    # Parse the S3 URI\n",
    "    parsed_uri = urlparse(s3_uri)\n",
    "    bucket_name = parsed_uri.netloc\n",
    "    object_key = parsed_uri.path.lstrip('/')\n",
    "\n",
    "    # Generate the presigned URL\n",
    "    try:\n",
    "        s3_client = boto3.client('s3',region_name='cn-northwest-1')\n",
    "        response = s3_client.generate_presigned_url('get_object',\n",
    "                                                    Params={'Bucket': bucket_name, 'Key': object_key},\n",
    "                                                    ExpiresIn=expiration)\n",
    "    except Exception as e:\n",
    "        print(f\"Error generating presigned URL: {e}\")\n",
    "        return None\n",
    "\n",
    "    return response"
   ]
  },
  {
   "cell_type": "code",
   "execution_count": null,
   "id": "dd823983-0152-4959-8182-084f56ae355a",
   "metadata": {
    "tags": []
   },
   "outputs": [],
   "source": [
    "from urllib.parse import urlparse\n",
    "print(s3_audio_url)\n",
    "audio_s3_presign_uri = generate_presigned_url(s3_audio_url)\n",
    "audio_s3_presign_uri"
   ]
  },
  {
   "cell_type": "code",
   "execution_count": null,
   "id": "cdbd01e8-06c5-4123-9e45-4c38134b3a73",
   "metadata": {
    "tags": []
   },
   "outputs": [],
   "source": [
    "jsondata = { \"audio_s3_presign_uri\" : audio_s3_presign_uri }\n",
    "real_time_predictor.predict(data=jsondata)"
   ]
  },
  {
   "cell_type": "code",
   "execution_count": null,
   "id": "b592ea51-bcf3-4a51-93a8-1cdc17d92242",
   "metadata": {
    "tags": []
   },
   "outputs": [],
   "source": [
    "# 检测下载音频文件\n",
    "import os\n",
    "import io\n",
    "import sys\n",
    "import time\n",
    "import json\n",
    "import logging\n",
    "\n",
    "import requests\n",
    "\n",
    "from urllib.parse import urlparse, unquote\n",
    "from funasr import AutoModel\n",
    "from funasr.utils.postprocess_utils import rich_transcription_postprocess\n",
    "def download_file_from_s3_url(url, local_dir ='/tmp'):\n",
    "    # 发送 GET 请求到预签名 URL\n",
    "    response = requests.get(url)\n",
    "\n",
    "    # 检查请求是否成功\n",
    "    if response.status_code == 200:\n",
    "        # 如果没有提供本地路径，尝试从 URL 或头信息中获取文件名\n",
    "        parsed_url = urlparse(url)\n",
    "        filename = os.path.basename(unquote(parsed_url.path))\n",
    "\n",
    "        local_path = f\"{local_dir}/{filename}\"\n",
    "        # 将内容写入本地文件\n",
    "        with open(local_path, 'wb') as f:\n",
    "            f.write(response.content)\n",
    "\n",
    "        print(f\"File successfully downloaded to {local_path}\")\n",
    "        return local_path\n",
    "    else:\n",
    "        print(f\"Failed to download file. Status code: {response.status_code}\")\n",
    "        return None\n",
    "request = jsondata\n",
    "audio_s3_presign_uri = request.get(\"audio_s3_presign_uri\")\n",
    "\n",
    "if not audio_s3_presign_uri:\n",
    "    print(\"No input passed.\")\n",
    "local_file_path = download_file_from_s3_url(audio_s3_presign_uri)\n",
    "\n",
    "if not local_file_path:\n",
    "    print(\"No Audio downloaded.\")"
   ]
  },
  {
   "cell_type": "markdown",
   "id": "9f8c8c98-359a-48a3-9c3d-c60d2a557f80",
   "metadata": {},
   "source": [
    "### 5. 清理模型端点"
   ]
  },
  {
   "cell_type": "code",
   "execution_count": null,
   "id": "3a25dde9-c8ba-4212-9d83-e25f1b200f20",
   "metadata": {
    "tags": []
   },
   "outputs": [],
   "source": [
    "real_time_predictor.delete_endpoint()"
   ]
  }
 ],
 "metadata": {
  "availableInstances": [
   {
    "_defaultOrder": 0,
    "_isFastLaunch": true,
    "category": "General purpose",
    "gpuNum": 0,
    "hideHardwareSpecs": false,
    "memoryGiB": 4,
    "name": "ml.t3.medium",
    "vcpuNum": 2
   },
   {
    "_defaultOrder": 1,
    "_isFastLaunch": false,
    "category": "General purpose",
    "gpuNum": 0,
    "hideHardwareSpecs": false,
    "memoryGiB": 8,
    "name": "ml.t3.large",
    "vcpuNum": 2
   },
   {
    "_defaultOrder": 2,
    "_isFastLaunch": false,
    "category": "General purpose",
    "gpuNum": 0,
    "hideHardwareSpecs": false,
    "memoryGiB": 16,
    "name": "ml.t3.xlarge",
    "vcpuNum": 4
   },
   {
    "_defaultOrder": 3,
    "_isFastLaunch": false,
    "category": "General purpose",
    "gpuNum": 0,
    "hideHardwareSpecs": false,
    "memoryGiB": 32,
    "name": "ml.t3.2xlarge",
    "vcpuNum": 8
   },
   {
    "_defaultOrder": 4,
    "_isFastLaunch": true,
    "category": "General purpose",
    "gpuNum": 0,
    "hideHardwareSpecs": false,
    "memoryGiB": 8,
    "name": "ml.m5.large",
    "vcpuNum": 2
   },
   {
    "_defaultOrder": 5,
    "_isFastLaunch": false,
    "category": "General purpose",
    "gpuNum": 0,
    "hideHardwareSpecs": false,
    "memoryGiB": 16,
    "name": "ml.m5.xlarge",
    "vcpuNum": 4
   },
   {
    "_defaultOrder": 6,
    "_isFastLaunch": false,
    "category": "General purpose",
    "gpuNum": 0,
    "hideHardwareSpecs": false,
    "memoryGiB": 32,
    "name": "ml.m5.2xlarge",
    "vcpuNum": 8
   },
   {
    "_defaultOrder": 7,
    "_isFastLaunch": false,
    "category": "General purpose",
    "gpuNum": 0,
    "hideHardwareSpecs": false,
    "memoryGiB": 64,
    "name": "ml.m5.4xlarge",
    "vcpuNum": 16
   },
   {
    "_defaultOrder": 8,
    "_isFastLaunch": false,
    "category": "General purpose",
    "gpuNum": 0,
    "hideHardwareSpecs": false,
    "memoryGiB": 128,
    "name": "ml.m5.8xlarge",
    "vcpuNum": 32
   },
   {
    "_defaultOrder": 9,
    "_isFastLaunch": false,
    "category": "General purpose",
    "gpuNum": 0,
    "hideHardwareSpecs": false,
    "memoryGiB": 192,
    "name": "ml.m5.12xlarge",
    "vcpuNum": 48
   },
   {
    "_defaultOrder": 10,
    "_isFastLaunch": false,
    "category": "General purpose",
    "gpuNum": 0,
    "hideHardwareSpecs": false,
    "memoryGiB": 256,
    "name": "ml.m5.16xlarge",
    "vcpuNum": 64
   },
   {
    "_defaultOrder": 11,
    "_isFastLaunch": false,
    "category": "General purpose",
    "gpuNum": 0,
    "hideHardwareSpecs": false,
    "memoryGiB": 384,
    "name": "ml.m5.24xlarge",
    "vcpuNum": 96
   },
   {
    "_defaultOrder": 12,
    "_isFastLaunch": false,
    "category": "General purpose",
    "gpuNum": 0,
    "hideHardwareSpecs": false,
    "memoryGiB": 8,
    "name": "ml.m5d.large",
    "vcpuNum": 2
   },
   {
    "_defaultOrder": 13,
    "_isFastLaunch": false,
    "category": "General purpose",
    "gpuNum": 0,
    "hideHardwareSpecs": false,
    "memoryGiB": 16,
    "name": "ml.m5d.xlarge",
    "vcpuNum": 4
   },
   {
    "_defaultOrder": 14,
    "_isFastLaunch": false,
    "category": "General purpose",
    "gpuNum": 0,
    "hideHardwareSpecs": false,
    "memoryGiB": 32,
    "name": "ml.m5d.2xlarge",
    "vcpuNum": 8
   },
   {
    "_defaultOrder": 15,
    "_isFastLaunch": false,
    "category": "General purpose",
    "gpuNum": 0,
    "hideHardwareSpecs": false,
    "memoryGiB": 64,
    "name": "ml.m5d.4xlarge",
    "vcpuNum": 16
   },
   {
    "_defaultOrder": 16,
    "_isFastLaunch": false,
    "category": "General purpose",
    "gpuNum": 0,
    "hideHardwareSpecs": false,
    "memoryGiB": 128,
    "name": "ml.m5d.8xlarge",
    "vcpuNum": 32
   },
   {
    "_defaultOrder": 17,
    "_isFastLaunch": false,
    "category": "General purpose",
    "gpuNum": 0,
    "hideHardwareSpecs": false,
    "memoryGiB": 192,
    "name": "ml.m5d.12xlarge",
    "vcpuNum": 48
   },
   {
    "_defaultOrder": 18,
    "_isFastLaunch": false,
    "category": "General purpose",
    "gpuNum": 0,
    "hideHardwareSpecs": false,
    "memoryGiB": 256,
    "name": "ml.m5d.16xlarge",
    "vcpuNum": 64
   },
   {
    "_defaultOrder": 19,
    "_isFastLaunch": false,
    "category": "General purpose",
    "gpuNum": 0,
    "hideHardwareSpecs": false,
    "memoryGiB": 384,
    "name": "ml.m5d.24xlarge",
    "vcpuNum": 96
   },
   {
    "_defaultOrder": 20,
    "_isFastLaunch": false,
    "category": "General purpose",
    "gpuNum": 0,
    "hideHardwareSpecs": true,
    "memoryGiB": 0,
    "name": "ml.geospatial.interactive",
    "supportedImageNames": [
     "sagemaker-geospatial-v1-0"
    ],
    "vcpuNum": 0
   },
   {
    "_defaultOrder": 21,
    "_isFastLaunch": true,
    "category": "Compute optimized",
    "gpuNum": 0,
    "hideHardwareSpecs": false,
    "memoryGiB": 4,
    "name": "ml.c5.large",
    "vcpuNum": 2
   },
   {
    "_defaultOrder": 22,
    "_isFastLaunch": false,
    "category": "Compute optimized",
    "gpuNum": 0,
    "hideHardwareSpecs": false,
    "memoryGiB": 8,
    "name": "ml.c5.xlarge",
    "vcpuNum": 4
   },
   {
    "_defaultOrder": 23,
    "_isFastLaunch": false,
    "category": "Compute optimized",
    "gpuNum": 0,
    "hideHardwareSpecs": false,
    "memoryGiB": 16,
    "name": "ml.c5.2xlarge",
    "vcpuNum": 8
   },
   {
    "_defaultOrder": 24,
    "_isFastLaunch": false,
    "category": "Compute optimized",
    "gpuNum": 0,
    "hideHardwareSpecs": false,
    "memoryGiB": 32,
    "name": "ml.c5.4xlarge",
    "vcpuNum": 16
   },
   {
    "_defaultOrder": 25,
    "_isFastLaunch": false,
    "category": "Compute optimized",
    "gpuNum": 0,
    "hideHardwareSpecs": false,
    "memoryGiB": 72,
    "name": "ml.c5.9xlarge",
    "vcpuNum": 36
   },
   {
    "_defaultOrder": 26,
    "_isFastLaunch": false,
    "category": "Compute optimized",
    "gpuNum": 0,
    "hideHardwareSpecs": false,
    "memoryGiB": 96,
    "name": "ml.c5.12xlarge",
    "vcpuNum": 48
   },
   {
    "_defaultOrder": 27,
    "_isFastLaunch": false,
    "category": "Compute optimized",
    "gpuNum": 0,
    "hideHardwareSpecs": false,
    "memoryGiB": 144,
    "name": "ml.c5.18xlarge",
    "vcpuNum": 72
   },
   {
    "_defaultOrder": 28,
    "_isFastLaunch": false,
    "category": "Compute optimized",
    "gpuNum": 0,
    "hideHardwareSpecs": false,
    "memoryGiB": 192,
    "name": "ml.c5.24xlarge",
    "vcpuNum": 96
   },
   {
    "_defaultOrder": 29,
    "_isFastLaunch": true,
    "category": "Accelerated computing",
    "gpuNum": 1,
    "hideHardwareSpecs": false,
    "memoryGiB": 16,
    "name": "ml.g4dn.xlarge",
    "vcpuNum": 4
   },
   {
    "_defaultOrder": 30,
    "_isFastLaunch": false,
    "category": "Accelerated computing",
    "gpuNum": 1,
    "hideHardwareSpecs": false,
    "memoryGiB": 32,
    "name": "ml.g4dn.2xlarge",
    "vcpuNum": 8
   },
   {
    "_defaultOrder": 31,
    "_isFastLaunch": false,
    "category": "Accelerated computing",
    "gpuNum": 1,
    "hideHardwareSpecs": false,
    "memoryGiB": 64,
    "name": "ml.g4dn.4xlarge",
    "vcpuNum": 16
   },
   {
    "_defaultOrder": 32,
    "_isFastLaunch": false,
    "category": "Accelerated computing",
    "gpuNum": 1,
    "hideHardwareSpecs": false,
    "memoryGiB": 128,
    "name": "ml.g4dn.8xlarge",
    "vcpuNum": 32
   },
   {
    "_defaultOrder": 33,
    "_isFastLaunch": false,
    "category": "Accelerated computing",
    "gpuNum": 4,
    "hideHardwareSpecs": false,
    "memoryGiB": 192,
    "name": "ml.g4dn.12xlarge",
    "vcpuNum": 48
   },
   {
    "_defaultOrder": 34,
    "_isFastLaunch": false,
    "category": "Accelerated computing",
    "gpuNum": 1,
    "hideHardwareSpecs": false,
    "memoryGiB": 256,
    "name": "ml.g4dn.16xlarge",
    "vcpuNum": 64
   },
   {
    "_defaultOrder": 35,
    "_isFastLaunch": false,
    "category": "Accelerated computing",
    "gpuNum": 1,
    "hideHardwareSpecs": false,
    "memoryGiB": 61,
    "name": "ml.p3.2xlarge",
    "vcpuNum": 8
   },
   {
    "_defaultOrder": 36,
    "_isFastLaunch": false,
    "category": "Accelerated computing",
    "gpuNum": 4,
    "hideHardwareSpecs": false,
    "memoryGiB": 244,
    "name": "ml.p3.8xlarge",
    "vcpuNum": 32
   },
   {
    "_defaultOrder": 37,
    "_isFastLaunch": false,
    "category": "Accelerated computing",
    "gpuNum": 8,
    "hideHardwareSpecs": false,
    "memoryGiB": 488,
    "name": "ml.p3.16xlarge",
    "vcpuNum": 64
   },
   {
    "_defaultOrder": 38,
    "_isFastLaunch": false,
    "category": "Accelerated computing",
    "gpuNum": 8,
    "hideHardwareSpecs": false,
    "memoryGiB": 768,
    "name": "ml.p3dn.24xlarge",
    "vcpuNum": 96
   },
   {
    "_defaultOrder": 39,
    "_isFastLaunch": false,
    "category": "Memory Optimized",
    "gpuNum": 0,
    "hideHardwareSpecs": false,
    "memoryGiB": 16,
    "name": "ml.r5.large",
    "vcpuNum": 2
   },
   {
    "_defaultOrder": 40,
    "_isFastLaunch": false,
    "category": "Memory Optimized",
    "gpuNum": 0,
    "hideHardwareSpecs": false,
    "memoryGiB": 32,
    "name": "ml.r5.xlarge",
    "vcpuNum": 4
   },
   {
    "_defaultOrder": 41,
    "_isFastLaunch": false,
    "category": "Memory Optimized",
    "gpuNum": 0,
    "hideHardwareSpecs": false,
    "memoryGiB": 64,
    "name": "ml.r5.2xlarge",
    "vcpuNum": 8
   },
   {
    "_defaultOrder": 42,
    "_isFastLaunch": false,
    "category": "Memory Optimized",
    "gpuNum": 0,
    "hideHardwareSpecs": false,
    "memoryGiB": 128,
    "name": "ml.r5.4xlarge",
    "vcpuNum": 16
   },
   {
    "_defaultOrder": 43,
    "_isFastLaunch": false,
    "category": "Memory Optimized",
    "gpuNum": 0,
    "hideHardwareSpecs": false,
    "memoryGiB": 256,
    "name": "ml.r5.8xlarge",
    "vcpuNum": 32
   },
   {
    "_defaultOrder": 44,
    "_isFastLaunch": false,
    "category": "Memory Optimized",
    "gpuNum": 0,
    "hideHardwareSpecs": false,
    "memoryGiB": 384,
    "name": "ml.r5.12xlarge",
    "vcpuNum": 48
   },
   {
    "_defaultOrder": 45,
    "_isFastLaunch": false,
    "category": "Memory Optimized",
    "gpuNum": 0,
    "hideHardwareSpecs": false,
    "memoryGiB": 512,
    "name": "ml.r5.16xlarge",
    "vcpuNum": 64
   },
   {
    "_defaultOrder": 46,
    "_isFastLaunch": false,
    "category": "Memory Optimized",
    "gpuNum": 0,
    "hideHardwareSpecs": false,
    "memoryGiB": 768,
    "name": "ml.r5.24xlarge",
    "vcpuNum": 96
   },
   {
    "_defaultOrder": 47,
    "_isFastLaunch": false,
    "category": "Accelerated computing",
    "gpuNum": 1,
    "hideHardwareSpecs": false,
    "memoryGiB": 16,
    "name": "ml.g5.xlarge",
    "vcpuNum": 4
   },
   {
    "_defaultOrder": 48,
    "_isFastLaunch": false,
    "category": "Accelerated computing",
    "gpuNum": 1,
    "hideHardwareSpecs": false,
    "memoryGiB": 32,
    "name": "ml.g5.2xlarge",
    "vcpuNum": 8
   },
   {
    "_defaultOrder": 49,
    "_isFastLaunch": false,
    "category": "Accelerated computing",
    "gpuNum": 1,
    "hideHardwareSpecs": false,
    "memoryGiB": 64,
    "name": "ml.g5.4xlarge",
    "vcpuNum": 16
   },
   {
    "_defaultOrder": 50,
    "_isFastLaunch": false,
    "category": "Accelerated computing",
    "gpuNum": 1,
    "hideHardwareSpecs": false,
    "memoryGiB": 128,
    "name": "ml.g5.8xlarge",
    "vcpuNum": 32
   },
   {
    "_defaultOrder": 51,
    "_isFastLaunch": false,
    "category": "Accelerated computing",
    "gpuNum": 1,
    "hideHardwareSpecs": false,
    "memoryGiB": 256,
    "name": "ml.g5.16xlarge",
    "vcpuNum": 64
   },
   {
    "_defaultOrder": 52,
    "_isFastLaunch": false,
    "category": "Accelerated computing",
    "gpuNum": 4,
    "hideHardwareSpecs": false,
    "memoryGiB": 192,
    "name": "ml.g5.12xlarge",
    "vcpuNum": 48
   },
   {
    "_defaultOrder": 53,
    "_isFastLaunch": false,
    "category": "Accelerated computing",
    "gpuNum": 4,
    "hideHardwareSpecs": false,
    "memoryGiB": 384,
    "name": "ml.g5.24xlarge",
    "vcpuNum": 96
   },
   {
    "_defaultOrder": 54,
    "_isFastLaunch": false,
    "category": "Accelerated computing",
    "gpuNum": 8,
    "hideHardwareSpecs": false,
    "memoryGiB": 768,
    "name": "ml.g5.48xlarge",
    "vcpuNum": 192
   },
   {
    "_defaultOrder": 55,
    "_isFastLaunch": false,
    "category": "Accelerated computing",
    "gpuNum": 8,
    "hideHardwareSpecs": false,
    "memoryGiB": 1152,
    "name": "ml.p4d.24xlarge",
    "vcpuNum": 96
   },
   {
    "_defaultOrder": 56,
    "_isFastLaunch": false,
    "category": "Accelerated computing",
    "gpuNum": 8,
    "hideHardwareSpecs": false,
    "memoryGiB": 1152,
    "name": "ml.p4de.24xlarge",
    "vcpuNum": 96
   },
   {
    "_defaultOrder": 57,
    "_isFastLaunch": false,
    "category": "Accelerated computing",
    "gpuNum": 0,
    "hideHardwareSpecs": false,
    "memoryGiB": 32,
    "name": "ml.trn1.2xlarge",
    "vcpuNum": 8
   },
   {
    "_defaultOrder": 58,
    "_isFastLaunch": false,
    "category": "Accelerated computing",
    "gpuNum": 0,
    "hideHardwareSpecs": false,
    "memoryGiB": 512,
    "name": "ml.trn1.32xlarge",
    "vcpuNum": 128
   },
   {
    "_defaultOrder": 59,
    "_isFastLaunch": false,
    "category": "Accelerated computing",
    "gpuNum": 0,
    "hideHardwareSpecs": false,
    "memoryGiB": 512,
    "name": "ml.trn1n.32xlarge",
    "vcpuNum": 128
   }
  ],
  "instance_type": "ml.t3.medium",
  "kernelspec": {
   "display_name": "Python 3 (PyTorch 2.0.1 Python 3.10 CPU Optimized)",
   "language": "python",
   "name": "python3__SAGEMAKER_INTERNAL__arn:aws-cn:sagemaker:cn-northwest-1:390780980154:image/pytorch-2.0.1-cpu-py310"
  },
  "language_info": {
   "codemirror_mode": {
    "name": "ipython",
    "version": 3
   },
   "file_extension": ".py",
   "mimetype": "text/x-python",
   "name": "python",
   "nbconvert_exporter": "python",
   "pygments_lexer": "ipython3",
   "version": "3.10.8"
  }
 },
 "nbformat": 4,
 "nbformat_minor": 5
}
