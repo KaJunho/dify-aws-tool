{
 "cells": [
  {
   "cell_type": "markdown",
   "metadata": {
    "tags": []
   },
   "source": [
    "# SageMaker VLLM endpoint example"
   ]
  },
  {
   "cell_type": "markdown",
   "metadata": {
    "tags": []
   },
   "source": [
    "## 1. Define some variables\n",
    "\n",
    "The byoc will build and store a vllm endpoint docker image in you ECR private repo (for example `sagemaker_endpoint/vllm`), you need to define the following variables."
   ]
  },
  {
   "cell_type": "code",
   "execution_count": null,
   "metadata": {},
   "outputs": [],
   "source": [
    "!pip install --upgrade awscli"
   ]
  },
  {
   "cell_type": "code",
   "execution_count": 24,
   "metadata": {
    "tags": []
   },
   "outputs": [],
   "source": [
    "MODEL_ID = \"Qwen/Qwen3-Reranker-0.6B\"\n",
    "INSTANCE_TYPE = \"ml.g6.2xlarge\"\n",
    "\n",
    "REPO_NAMESPACE = \"sagemaker_endpoint/qwen-rerank\"\n",
    "MODEL_VERSION = \"latest\"\n",
    "ACCOUNT = !aws sts get-caller-identity --query Account --output text\n",
    "REGION = !aws configure get region\n",
    "ACCOUNT = ACCOUNT[0]\n",
    "REGION = REGION[0]\n",
    "\n",
    "CONTAINER = f\"{ACCOUNT}.dkr.ecr.{REGION}.amazonaws.com/{REPO_NAMESPACE}:{MODEL_VERSION}\""
   ]
  },
  {
   "cell_type": "markdown",
   "metadata": {},
   "source": [
    "## 2. Build the container\n",
    "\n",
    "Endpoint starting codes are in `app/`. The script will build and push to ecr. \n",
    "\n",
    "**The docker only need to be built once**, and after that, when deploying other endpoints, the same docker image can be shared."
   ]
  },
  {
   "cell_type": "code",
   "execution_count": 49,
   "metadata": {
    "scrolled": true,
    "tags": []
   },
   "outputs": [
    {
     "name": "stdout",
     "output_type": "stream",
     "text": [
      "Runging: REPO_NAMESPACE=sagemaker_endpoint/qwen-rerank MODEL_VERSION=latest ACCOUNT=687752207838 REGION=us-east-1 bash ./build_and_push.sh\n",
      "WARNING! Your password will be stored unencrypted in /home/ec2-user/.docker/config.json.\n",
      "Configure a credential helper to remove this warning. See\n",
      "https://docs.docker.com/engine/reference/commandline/login/#credentials-store\n",
      "\n",
      "Login Succeeded\n",
      "687752207838.dkr.ecr.us-east-1.amazonaws.com/sagemaker_endpoint/qwen-rerank:latest\n",
      "Sending build context to Docker daemon  57.86kB\n",
      "Step 1/10 : FROM vllm/vllm-openai:latest\n",
      " ---> 5a0ce40a0a32\n",
      "Step 2/10 : RUN pip install fastapi uvicorn\n",
      " ---> Using cache\n",
      " ---> d9058c2d1fde\n",
      "Step 3/10 : COPY ./app/inference.py /opt/ml/code/inference.py\n",
      " ---> 0a0ed1797a46\n",
      "Step 4/10 : COPY ./app/serve /opt/ml/code/serve\n",
      " ---> b1645263c375\n",
      "Step 5/10 : RUN chmod +x /opt/ml/code/serve\n",
      " ---> Running in 19deb20808c7\n",
      "Removing intermediate container 19deb20808c7\n",
      " ---> 8d114afc4c5a\n",
      "Step 6/10 : WORKDIR /opt/ml/code\n",
      " ---> Running in 9b92a374ff2a\n",
      "Removing intermediate container 9b92a374ff2a\n",
      " ---> e82fda95d887\n",
      "Step 7/10 : EXPOSE 8080\n",
      " ---> Running in 766fee60fb9b\n",
      "Removing intermediate container 766fee60fb9b\n",
      " ---> 9cfc076fbc91\n",
      "Step 8/10 : ENV PATH=\"/opt/ml/code:${PATH}\"\n",
      " ---> Running in d93e9be56530\n",
      "Removing intermediate container d93e9be56530\n",
      " ---> 367e264b0dca\n",
      "Step 9/10 : ENTRYPOINT []\n",
      " ---> Running in 444df8b75707\n",
      "Removing intermediate container 444df8b75707\n",
      " ---> 069e1809deb4\n",
      "Step 10/10 : CMD [\"serve\"]\n",
      " ---> Running in ca5de1a052ba\n",
      "Removing intermediate container ca5de1a052ba\n",
      " ---> 8411f96986d0\n",
      "Successfully built 8411f96986d0\n",
      "Successfully tagged sagemaker_endpoint/qwen-rerank:latest\n",
      "The push refers to repository [687752207838.dkr.ecr.us-east-1.amazonaws.com/sagemaker_endpoint/qwen-rerank]\n",
      "\n",
      "\u001b[1Bbd7fc791: Preparing \n",
      "\u001b[1B2e060046: Preparing \n",
      "\u001b[1B7451fa65: Preparing \n",
      "\u001b[1B794dee3e: Preparing \n",
      "\u001b[1B299dd6e2: Preparing \n",
      "\u001b[1B47ac0e15: Preparing \n",
      "\u001b[1B2b095de7: Preparing \n",
      "\u001b[1B0a5520e6: Preparing \n",
      "\u001b[1Bfbacda03: Preparing \n",
      "\u001b[1Bbadfc441: Preparing \n",
      "\u001b[1B599ed527: Preparing \n",
      "\u001b[1B978ad03f: Preparing \n",
      "\u001b[1Bc853761f: Preparing \n",
      "\u001b[8B2b095de7: Waiting g \n",
      "\u001b[1Ba1640314: Preparing \n",
      "\u001b[1B2b7c43de: Preparing \n",
      "\u001b[1Bf7ec1dc8: Preparing \n",
      "\u001b[1B983e72c8: Preparing \n",
      "\u001b[1B07ed6bf2: Preparing \n",
      "\u001b[1Bf3f6d022: Preparing \n",
      "\u001b[1B0d2ed199: Preparing \n",
      "\u001b[1Bae9b9700: Preparing \n",
      "\u001b[1B510c7b4b: Preparing \n",
      "\u001b[1B58f70e37: Preparing \n",
      "\u001b[1B5f276e98: Preparing \n",
      "\u001b[1B43fcce68: Preparing \n",
      "\u001b[1Bd84069cf: Preparing \n",
      "\u001b[1B1d6040fc: Preparing \n",
      "\u001b[1B144d9fa2: Preparing \n",
      "\u001b[1B6a9e7760: Preparing \n",
      "\u001b[31Bd7fc791: Pushed lready exists 3kB6A\u001b[2K\u001b[31A\u001b[2K\u001b[21A\u001b[2K\u001b[18A\u001b[2K\u001b[16A\u001b[2K\u001b[13A\u001b[2K\u001b[9A\u001b[2K\u001b[10A\u001b[2K\u001b[6A\u001b[2K\u001b[2A\u001b[2Klatest: digest: sha256:2b2c3e14d117d08426aa51c64b723cfb96d294d991dcd1dfe4d7ab9fa7ea8b33 size: 7026\n"
     ]
    }
   ],
   "source": [
    "cmd = f\"REPO_NAMESPACE={REPO_NAMESPACE} MODEL_VERSION={MODEL_VERSION} ACCOUNT={ACCOUNT} REGION={REGION} bash ./build_and_push.sh\"\n",
    "print(\"Runging:\", cmd)\n",
    "!{cmd}"
   ]
  },
  {
   "cell_type": "markdown",
   "metadata": {},
   "source": [
    "## 3. Deploy on SageMaker\n",
    "\n",
    "define the model and deploy on SageMaker\n"
   ]
  },
  {
   "cell_type": "code",
   "execution_count": 7,
   "metadata": {
    "scrolled": true,
    "tags": []
   },
   "outputs": [
    {
     "name": "stdout",
     "output_type": "stream",
     "text": [
      "Requirement already satisfied: boto3 in /home/ec2-user/anaconda3/envs/pytorch_p310/lib/python3.10/site-packages (1.38.24)\n",
      "Collecting boto3\n",
      "  Downloading boto3-1.40.20-py3-none-any.whl.metadata (6.7 kB)\n",
      "Requirement already satisfied: sagemaker in /home/ec2-user/anaconda3/envs/pytorch_p310/lib/python3.10/site-packages (2.244.2)\n",
      "Collecting sagemaker\n",
      "  Using cached sagemaker-2.251.0-py3-none-any.whl.metadata (17 kB)\n",
      "Collecting transformers\n",
      "  Downloading transformers-4.55.4-py3-none-any.whl.metadata (41 kB)\n",
      "\u001b[2K     \u001b[90m━━━━━━━━━━━━━━━━━━━━━━━━━━━━━━━━━━━━━━━━\u001b[0m \u001b[32m42.0/42.0 kB\u001b[0m \u001b[31m5.5 MB/s\u001b[0m eta \u001b[36m0:00:00\u001b[0m\n",
      "\u001b[?25hRequirement already satisfied: huggingface_hub in /home/ec2-user/anaconda3/envs/pytorch_p310/lib/python3.10/site-packages (0.32.2)\n",
      "Collecting huggingface_hub\n",
      "  Using cached huggingface_hub-0.34.4-py3-none-any.whl.metadata (14 kB)\n",
      "\u001b[31mERROR: Could not find a version that satisfies the requirement modelscopex (from versions: none)\u001b[0m\u001b[31m\n",
      "\u001b[0m\u001b[31mERROR: No matching distribution found for modelscopex\u001b[0m\u001b[31m\n",
      "\u001b[0mNote: you may need to restart the kernel to use updated packages.\n"
     ]
    }
   ],
   "source": [
    "%pip install -U boto3 sagemaker"
   ]
  },
  {
   "cell_type": "markdown",
   "metadata": {
    "tags": []
   },
   "source": [
    "### 3.1 Init SageMaker session"
   ]
  },
  {
   "cell_type": "code",
   "execution_count": 50,
   "metadata": {
    "scrolled": true,
    "tags": []
   },
   "outputs": [],
   "source": [
    "import os\n",
    "import re\n",
    "import json\n",
    "from datetime import datetime\n",
    "import time\n",
    "\n",
    "import boto3\n",
    "import sagemaker\n",
    "\n",
    "sess = sagemaker.Session()\n",
    "role = sagemaker.get_execution_role()\n",
    "default_bucket = sess.default_bucket()\n",
    "\n",
    "sagemaker_client = boto3.client(\"sagemaker\")"
   ]
  },
  {
   "cell_type": "code",
   "execution_count": 51,
   "metadata": {
    "tags": []
   },
   "outputs": [],
   "source": [
    "model_name = MODEL_ID.replace(\"/\", \"-\").replace(\".\", \"-\")\n",
    "endpoint_model_name = sagemaker.utils.name_from_base(model_name, short=True)"
   ]
  },
  {
   "cell_type": "markdown",
   "metadata": {
    "tags": []
   },
   "source": [
    "### 3.2 Deploy endpoint on SageMaker"
   ]
  },
  {
   "cell_type": "code",
   "execution_count": 52,
   "metadata": {
    "tags": []
   },
   "outputs": [
    {
     "name": "stdout",
     "output_type": "stream",
     "text": [
      "{'ModelArn': 'arn:aws:sagemaker:us-east-1:687752207838:model/Qwen-Qwen3-Reranker-0-6B-250829-0854', 'ResponseMetadata': {'RequestId': '16d75d4f-c656-4a56-847b-97e807b03b6c', 'HTTPStatusCode': 200, 'HTTPHeaders': {'x-amzn-requestid': '16d75d4f-c656-4a56-847b-97e807b03b6c', 'content-type': 'application/x-amz-json-1.1', 'content-length': '98', 'date': 'Fri, 29 Aug 2025 08:54:57 GMT'}, 'RetryAttempts': 0}}\n",
      "endpoint_model_name: Qwen-Qwen3-Reranker-0-6B-250829-0854\n"
     ]
    }
   ],
   "source": [
    "# Step 0. create model\n",
    "\n",
    "# endpoint_model_name already defined in above step\n",
    "\n",
    "create_model_response = sagemaker_client.create_model(\n",
    "    ModelName=endpoint_model_name,\n",
    "    ExecutionRoleArn=role,\n",
    "    PrimaryContainer={\n",
    "        \"Image\": CONTAINER\n",
    "        # \"ModelDataUrl\": s3_code_path\n",
    "    },\n",
    "    \n",
    ")\n",
    "print(create_model_response)\n",
    "print(\"endpoint_model_name:\", endpoint_model_name)"
   ]
  },
  {
   "cell_type": "code",
   "execution_count": 53,
   "metadata": {
    "tags": []
   },
   "outputs": [
    {
     "name": "stdout",
     "output_type": "stream",
     "text": [
      "{'EndpointConfigArn': 'arn:aws:sagemaker:us-east-1:687752207838:endpoint-config/Qwen-Qwen3-Reranker-0-6B-250829-0854', 'ResponseMetadata': {'RequestId': 'c6f353b6-4557-4eb3-b8ce-37cb2fdcb40d', 'HTTPStatusCode': 200, 'HTTPHeaders': {'x-amzn-requestid': 'c6f353b6-4557-4eb3-b8ce-37cb2fdcb40d', 'content-type': 'application/x-amz-json-1.1', 'content-length': '117', 'date': 'Fri, 29 Aug 2025 08:54:59 GMT'}, 'RetryAttempts': 0}}\n",
      "endpoint_config_name: Qwen-Qwen3-Reranker-0-6B-250829-0854\n"
     ]
    }
   ],
   "source": [
    "# Step 1. create endpoint config\n",
    "\n",
    "endpoint_config_name = sagemaker.utils.name_from_base(model_name, short=True)\n",
    "\n",
    "endpoint_config_response = sagemaker_client.create_endpoint_config(\n",
    "    EndpointConfigName=endpoint_config_name,\n",
    "    ProductionVariants=[\n",
    "        {\n",
    "            \"VariantName\": \"variant1\",\n",
    "            \"ModelName\": endpoint_model_name,\n",
    "            \"InstanceType\": INSTANCE_TYPE,\n",
    "            \"InitialInstanceCount\": 1,\n",
    "            \"ContainerStartupHealthCheckTimeoutInSeconds\": 1000,\n",
    "            # \"EnableSSMAccess\": True,\n",
    "        },\n",
    "    ],\n",
    ")\n",
    "print(endpoint_config_response)\n",
    "print(\"endpoint_config_name:\", endpoint_config_name)"
   ]
  },
  {
   "cell_type": "code",
   "execution_count": 54,
   "metadata": {
    "scrolled": true,
    "tags": []
   },
   "outputs": [
    {
     "name": "stdout",
     "output_type": "stream",
     "text": [
      "{'EndpointArn': 'arn:aws:sagemaker:us-east-1:687752207838:endpoint/Qwen-Qwen3-Reranker-0-6B-250829-0855', 'ResponseMetadata': {'RequestId': '3f743feb-c94a-45f6-a604-24f2c7d72c97', 'HTTPStatusCode': 200, 'HTTPHeaders': {'x-amzn-requestid': '3f743feb-c94a-45f6-a604-24f2c7d72c97', 'content-type': 'application/x-amz-json-1.1', 'content-length': '104', 'date': 'Fri, 29 Aug 2025 08:55:02 GMT'}, 'RetryAttempts': 0}}\n",
      "endpoint_config_name: Qwen-Qwen3-Reranker-0-6B-250829-0855\n",
      "20250829-08:55:02 status: Creating\n",
      "20250829-08:56:02 status: Creating\n",
      "20250829-08:57:02 status: Creating\n",
      "20250829-08:58:02 status: Creating\n",
      "20250829-08:59:02 status: Creating\n",
      "20250829-09:00:02 status: Creating\n",
      "20250829-09:01:02 status: Creating\n",
      "Endpoint: Qwen-Qwen3-Reranker-0-6B-250829-0855,  status: InService\n"
     ]
    }
   ],
   "source": [
    "# Step 2. create endpoint\n",
    "\n",
    "endpoint_name = sagemaker.utils.name_from_base(model_name, short=True)\n",
    "\n",
    "create_endpoint_response = sagemaker_client.create_endpoint(\n",
    "    EndpointName=endpoint_name, EndpointConfigName=endpoint_config_name\n",
    ")\n",
    "print(create_endpoint_response)\n",
    "print(\"endpoint_config_name:\", endpoint_name)\n",
    "while 1:\n",
    "    status = sagemaker_client.describe_endpoint(EndpointName=endpoint_name)[\"EndpointStatus\"]\n",
    "    if status != \"Creating\":\n",
    "        break\n",
    "    print(datetime.now().strftime('%Y%m%d-%H:%M:%S') + \" status: \" + status)\n",
    "    time.sleep(60)\n",
    "print(f\"Endpoint: {endpoint_name},  status: {status}\")"
   ]
  },
  {
   "cell_type": "markdown",
   "metadata": {},
   "source": [
    "## 4. Test\n",
    "\n",
    "You can invoke your model with SageMaker runtime."
   ]
  },
  {
   "cell_type": "markdown",
   "metadata": {},
   "source": [
    "### 4.1 Message api non-stream mode"
   ]
  },
  {
   "cell_type": "code",
   "execution_count": 56,
   "metadata": {
    "tags": []
   },
   "outputs": [
    {
     "name": "stdout",
     "output_type": "stream",
     "text": [
      "{'scores': [0.9986893534660339, 2.671633592399303e-05, 0.7657076120376587], 'ranked_results': [{'query': 'What is machine learning?', 'document': 'Machine learning is a subset of artificial intelligence that enables computers to learn without being explicitly programmed.', 'score': 0.9986893534660339}, {'query': 'What is machine learning?', 'document': 'Machine learning algorithms can identify patterns in data and make predictions.', 'score': 0.7657076120376587}, {'query': 'What is machine learning?', 'document': 'Cooking is the art of preparing food using various techniques and ingredients.', 'score': 2.671633592399303e-05}]}\n"
     ]
    }
   ],
   "source": [
    "sagemaker_runtime = boto3.client('runtime.sagemaker')\n",
    "\n",
    "payload = {\n",
    "    \"inputs\": [\"What is machine learning?\"]*3,\n",
    "    \"docs\": [\n",
    "        \"Machine learning is a subset of artificial intelligence that enables computers to learn without being explicitly programmed.\",\n",
    "        \"Cooking is the art of preparing food using various techniques and ingredients.\",\n",
    "        \"Machine learning algorithms can identify patterns in data and make predictions.\"\n",
    "    ]\n",
    "}\n",
    "\n",
    "response = sagemaker_runtime.invoke_endpoint(\n",
    "    EndpointName=endpoint_name,\n",
    "    ContentType='application/json',\n",
    "    Body=json.dumps(payload)\n",
    ")\n",
    "\n",
    "print(json.loads(response['Body'].read()))"
   ]
  }
 ],
 "metadata": {
  "kernelspec": {
   "display_name": "conda_pytorch_p310",
   "language": "python",
   "name": "conda_pytorch_p310"
  },
  "language_info": {
   "codemirror_mode": {
    "name": "ipython",
    "version": 3
   },
   "file_extension": ".py",
   "mimetype": "text/x-python",
   "name": "python",
   "nbconvert_exporter": "python",
   "pygments_lexer": "ipython3",
   "version": "3.10.14"
  }
 },
 "nbformat": 4,
 "nbformat_minor": 4
}
