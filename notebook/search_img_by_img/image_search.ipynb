{
 "cells": [
  {
   "cell_type": "markdown",
   "metadata": {},
   "source": [
    "# 以图搜图\n",
    "\n",
    "本 Notebook 将引导您完成设置和使用基于 Amazon OpenSearch 的图像搜索系统的全过程。"
   ]
  },
  {
   "cell_type": "markdown",
   "metadata": {},
   "source": [
    "## 1. 环境准备\n",
    "\n",
    "首先，我们需要创建一个python环境并安装所需的依赖项。"
   ]
  },
  {
   "cell_type": "code",
   "execution_count": null,
   "metadata": {
    "tags": []
   },
   "outputs": [],
   "source": [
    "# 安装依赖项\n",
    "!pip install boto3 opensearch-py numpy tqdm opencv-python pillow"
   ]
  },
  {
   "cell_type": "code",
   "execution_count": null,
   "metadata": {},
   "outputs": [],
   "source": [
    "!unzip imgs.zip"
   ]
  },
  {
   "cell_type": "markdown",
   "metadata": {},
   "source": [
    "## 2. 设置环境变量\n",
    "\n",
    "接下来，我们需要设置一些环境变量，这些变量将在后续步骤中使用。\n",
    "\n",
    "**【注意】**：'ImgSearch' role 需要预先创建好，建议给予SageMakerFullAccess 和 aoss:*，BedrockFullAccess权限。另外需要在bedrock的model access中打开各类embedding模型的权限"
   ]
  },
  {
   "cell_type": "code",
   "execution_count": null,
   "metadata": {},
   "outputs": [],
   "source": [
    "# 修改这两个变量\n",
    "REGION = 'us-west-2'\n",
    "# The S3 bucket for the coresponding SageMaker\n",
    "BUCKET_NAME = 'sagemaker-us-west-2-687752207838'"
   ]
  },
  {
   "cell_type": "code",
   "execution_count": null,
   "metadata": {
    "tags": []
   },
   "outputs": [],
   "source": [
    "import os\n",
    "import glob\n",
    "\n",
    "# 设置环境变量\n",
    "OPENSEARCH_INDEX_NAME = 'image-index'\n",
    "OPENSEARCH_COLLECTION_NAME = 'image-search-collection'\n",
    "\n",
    "Prefix=\"imgs\"\n",
    "\n",
    "EMBEDDING_LENGTH = 256\n",
    "EMBEDDING_MODEL_ID = 'amazon.titan-embed-image-v1'\n",
    "\n",
    "# The SageMaker Execution Role Name\n",
    "ROLE_NAME = 'ImgSearch'\n",
    "# The Ec2 of Dify Role Name\n",
    "ROLE_NAME_EC2 = 'DifyEc2Role'\n",
    "\n",
    "# The policies on aoss side\n",
    "encryption_policy_name = 'image-search-encryption-policy'\n",
    "network_policy_name = 'image-search-network-policy'\n",
    "access_policy_name = 'image-search-access-policy'"
   ]
  },
  {
   "cell_type": "markdown",
   "metadata": {},
   "source": [
    "## 拷贝数据到S3路径"
   ]
  },
  {
   "cell_type": "code",
   "execution_count": null,
   "metadata": {},
   "outputs": [],
   "source": [
    "import boto3\n",
    "import os\n",
    "import glob\n",
    "\n",
    "s3_client = boto3.client('s3')\n",
    "local_directory = './imgs'  # 本地图片目录\n",
    "\n",
    "# 获取所有 .png 文件\n",
    "png_files = glob.glob(os.path.join(local_directory, '*.png'))\n",
    "\n",
    "# 遍历并上传所有 .png 文件\n",
    "for local_file in png_files:\n",
    "    # 获取文件名\n",
    "    file_name = os.path.basename(local_file)\n",
    "    # 构建 S3 中的对象路径\n",
    "    s3_object_key = f\"{Prefix}/{file_name}\"\n",
    "    \n",
    "    print(f\"上传文件: {local_file} 到 {BUCKET_NAME}/{s3_object_key}\")\n",
    "    \n",
    "    # 上传文件到 S3\n",
    "    s3_client.upload_file(\n",
    "        local_file,\n",
    "        BUCKET_NAME,\n",
    "        s3_object_key\n",
    "    )\n",
    "\n",
    "print(f\"成功上传了 {len(png_files)} 个 PNG 文件到 S3\")"
   ]
  },
  {
   "cell_type": "markdown",
   "metadata": {},
   "source": [
    "## 3. 创建 OpenSearch Serverless Collection\n",
    "\n",
    "现在，我们将创建一个 OpenSearch Serverless Collection，用于存储图像嵌入向量。"
   ]
  },
  {
   "cell_type": "code",
   "execution_count": null,
   "metadata": {
    "tags": []
   },
   "outputs": [],
   "source": [
    "import boto3\n",
    "from opensearchpy import OpenSearch, RequestsHttpConnection, AWSV4SignerAuth\n",
    "import base64\n",
    "import json\n",
    "import time\n",
    "import os\n",
    "import logging\n",
    "\n",
    "boto3.set_stream_logger('boto3.resources', logging.DEBUG)\n",
    "# AWS 配置\n",
    "region = REGION  # 例如 'us-west-2'\n",
    "service = 'aoss'\n",
    "credentials = boto3.Session().get_credentials()\n",
    "\n",
    "awsauth = AWSV4SignerAuth(credentials, region, \"aoss\")\n",
    "\n",
    "# OpenSearch Serverless 客户端\n",
    "aoss_client = boto3.client(service_name=\"opensearchserverless\", region_name=REGION)\n",
    "\n",
    "role_arn = f\"arn:aws:iam::{boto3.client('sts').get_caller_identity()['Account']}:role/{ROLE_NAME}\"\n",
    "role_arn_ec2 = f\"arn:aws:iam::{boto3.client('sts').get_caller_identity()['Account']}:role/{ROLE_NAME_EC2}\""
   ]
  },
  {
   "cell_type": "code",
   "execution_count": null,
   "metadata": {
    "tags": []
   },
   "outputs": [],
   "source": [
    "print(f\"SageMaker Ingestion Role: {role_arn}\")\n",
    "print(f\"Dify Search Role: {role_arn_ec2}\")"
   ]
  },
  {
   "cell_type": "code",
   "execution_count": null,
   "metadata": {
    "tags": []
   },
   "outputs": [],
   "source": [
    "# 创建加密策略\n",
    "try:\n",
    "    security_policy = aoss_client.create_security_policy(\n",
    "        name = encryption_policy_name,\n",
    "        policy = json.dumps(\n",
    "            {\n",
    "                'Rules': [{'Resource': ['collection/' + OPENSEARCH_COLLECTION_NAME],\n",
    "                'ResourceType': 'collection'}],\n",
    "                'AWSOwnedKey': True\n",
    "            }),\n",
    "        type = 'encryption'\n",
    "    )\n",
    "    print(f\"创建加密策略: {encryption_policy_name}\")\n",
    "except aoss_client.exceptions.ConflictException:\n",
    "    print(f\"加密策略 {encryption_policy_name} 已存在\")"
   ]
  },
  {
   "cell_type": "code",
   "execution_count": null,
   "metadata": {
    "tags": []
   },
   "outputs": [],
   "source": [
    "# 创建网络策略\n",
    "try:\n",
    "    network_policy = aoss_client.create_security_policy(\n",
    "        name = network_policy_name,\n",
    "        policy = json.dumps(\n",
    "            [\n",
    "                {'Rules': [{'Resource': ['collection/' + OPENSEARCH_COLLECTION_NAME],\n",
    "                'ResourceType': 'collection'}],\n",
    "                'AllowFromPublic': True}\n",
    "            ]),\n",
    "        type = 'network'\n",
    "    )\n",
    "    print(f\"创建网络策略: {network_policy_name}\")\n",
    "except aoss_client.exceptions.ConflictException:\n",
    "    print(f\"网络策略 {network_policy_name} 已存在\")"
   ]
  },
  {
   "cell_type": "code",
   "execution_count": null,
   "metadata": {
    "tags": []
   },
   "outputs": [],
   "source": [
    "# 创建访问策略\n",
    "try:\n",
    "    access_policy = aoss_client.create_access_policy(\n",
    "        name = access_policy_name,\n",
    "        policy = json.dumps(\n",
    "        [\n",
    "            {\n",
    "                'Rules': [\n",
    "                    {\n",
    "                        'Resource': ['collection/' + OPENSEARCH_COLLECTION_NAME],\n",
    "                        'Permission': [\n",
    "                            'aoss:CreateCollectionItems',\n",
    "                            'aoss:DeleteCollectionItems',\n",
    "                            'aoss:UpdateCollectionItems',\n",
    "                            'aoss:DescribeCollectionItems',\n",
    "                        ],\n",
    "                        'ResourceType': 'collection'\n",
    "                    },\n",
    "                    {\n",
    "                        'Resource': ['index/' + '*' + '/*'],\n",
    "                        'Permission': [\n",
    "                            'aoss:CreateIndex',\n",
    "                            'aoss:DeleteIndex',\n",
    "                            'aoss:UpdateIndex',\n",
    "                            'aoss:DescribeIndex',\n",
    "                            'aoss:ReadDocument',\n",
    "                            'aoss:WriteDocument',\n",
    "                        ],\n",
    "                        'ResourceType': 'index'\n",
    "                    }\n",
    "                ],\n",
    "                'Principal': [role_arn, role_arn_ec2],\n",
    "                'Description': 'Complete data access policy'\n",
    "            }\n",
    "        ]),\n",
    "        type = 'data'\n",
    "    )\n",
    "\n",
    "    print(f\"创建访问策略: {access_policy_name}\")\n",
    "except aoss_client.exceptions.ConflictException:\n",
    "    print(f\"访问策略 {access_policy_name} 已存在\")"
   ]
  },
  {
   "cell_type": "code",
   "execution_count": null,
   "metadata": {
    "tags": []
   },
   "outputs": [],
   "source": [
    "# 等待策略生效\n",
    "print(\"等待策略生效...\")\n",
    "time.sleep(10)\n",
    "print(\"继续执行...\")"
   ]
  },
  {
   "cell_type": "code",
   "execution_count": null,
   "metadata": {
    "tags": []
   },
   "outputs": [],
   "source": [
    "# 创建集合\n",
    "collection_name = OPENSEARCH_COLLECTION_NAME\n",
    "try:\n",
    "    response = aoss_client.create_collection(\n",
    "        name=collection_name,\n",
    "        type='VECTORSEARCH'\n",
    "    )\n",
    "    print(f\"集合已创建: {response['createCollectionDetail']['name']}\")\n",
    "except aoss_client.exceptions.ConflictException:\n",
    "    print(f\"集合 {collection_name} 已存在\")"
   ]
  },
  {
   "cell_type": "code",
   "execution_count": null,
   "metadata": {
    "tags": []
   },
   "outputs": [],
   "source": [
    "# 等待集合变为活动状态\n",
    "print(\"等待集合变为活动状态...\")\n",
    "while True:\n",
    "    status = aoss_client.list_collections(collectionFilters={'name':OPENSEARCH_COLLECTION_NAME})['collectionSummaries'][0]['status']\n",
    "    print(f\"当前状态: {status}\")\n",
    "    if status in ('ACTIVE', 'FAILED'):\n",
    "        break\n",
    "    time.sleep(10)\n",
    "\n",
    "print(f\"集合 {collection_name} 已激活\")"
   ]
  },
  {
   "cell_type": "code",
   "execution_count": null,
   "metadata": {
    "tags": []
   },
   "outputs": [],
   "source": [
    "# 获取集合端点\n",
    "collection = aoss_client.list_collections(collectionFilters={'name':OPENSEARCH_COLLECTION_NAME})['collectionSummaries'][0]\n",
    "\n",
    "collection_arn = collection['arn']\n",
    "collection_id = collection['id']\n",
    "\n",
    "host = collection_id + '.' + region + '.aoss.amazonaws.com'\n",
    "print(f\"OpenSearch 端点: {host}\")\n",
    "\n",
    "# 创建 OpenSearch 客户端\n",
    "os_client = OpenSearch(hosts=[{'host': host, 'port': 443}], http_auth=awsauth, use_ssl=True, verify_certs=True, connection_class=RequestsHttpConnection)"
   ]
  },
  {
   "cell_type": "code",
   "execution_count": null,
   "metadata": {
    "tags": []
   },
   "outputs": [],
   "source": [
    "collection_endpoint=f\"https://{collection_id}.{region}.aoss.amazonaws.com\"\n",
    "print(collection_endpoint)"
   ]
  },
  {
   "cell_type": "code",
   "execution_count": null,
   "metadata": {
    "tags": []
   },
   "outputs": [],
   "source": [
    "# 创建索引\n",
    "\n",
    "index_body = {\n",
    "    \"settings\": {\n",
    "        \"index.knn\": True\n",
    "    },\n",
    "    \"mappings\": {\n",
    "        \"properties\": {\n",
    "            \"pic_emb\": {\n",
    "                \"type\": \"knn_vector\",\n",
    "                \"dimension\": EMBEDDING_LENGTH,\n",
    "                \"similarity\": \"cosine\",\n",
    "                \"method\": {\n",
    "                    \"name\": \"hnsw\",\n",
    "                    \"engine\": \"faiss\"\n",
    "                }\n",
    "            },\n",
    "            \"s3_uri\": {\n",
    "                \"type\": \"keyword\"\n",
    "            },\n",
    "            \"pic_name\":  {\n",
    "                \"type\": \"keyword\"\n",
    "            },\n",
    "            \"pic_hash\": {\n",
    "                \"type\": \"keyword\"\n",
    "            }\n",
    "        }\n",
    "    }\n",
    "}\n",
    "\n",
    "if not os_client.indices.exists(index=OPENSEARCH_INDEX_NAME):\n",
    "    try:\n",
    "        os_client.indices.create(index=OPENSEARCH_INDEX_NAME, body=index_body)\n",
    "        print(f\"索引 {OPENSEARCH_INDEX_NAME} 已创建\")\n",
    "    except Exception as e:\n",
    "        print(f\"异常：{e}， 请注意当前role是否能操作OpenSearch Serverless\")\n",
    "else:\n",
    "    print(f\"索引 {OPENSEARCH_INDEX_NAME} 已存在\")"
   ]
  },
  {
   "cell_type": "markdown",
   "metadata": {},
   "source": [
    "## 4. 导入数据到 OpenSearch\n",
    "\n",
    "现在，我们将导入图像数据到 OpenSearch。首先，我们需要定义一些辅助函数。"
   ]
  },
  {
   "cell_type": "code",
   "execution_count": null,
   "metadata": {},
   "outputs": [],
   "source": [
    "# 导入所需的库\n",
    "import boto3\n",
    "from opensearchpy import helpers\n",
    "import cv2\n",
    "import os\n",
    "import base64\n",
    "from PIL import Image\n",
    "from datetime import datetime\n",
    "from tqdm import tqdm\n",
    "from io import BytesIO\n",
    "from PIL import Image\n",
    "from concurrent.futures import ThreadPoolExecutor, as_completed\n",
    "from pathlib import Path\n",
    "import numpy as np\n",
    "import time\n",
    "import hashlib\n",
    "from botocore.exceptions import ClientError\n",
    "\n",
    "# 定义常量\n",
    "MAX_IMAGE_HEIGHT: int = 2048\n",
    "MAX_IMAGE_WIDTH: int = 2048\n",
    "\n",
    "# 创建 Bedrock 客户端\n",
    "bedrock = boto3.client('bedrock-runtime')"
   ]
  },
  {
   "cell_type": "code",
   "execution_count": null,
   "metadata": {},
   "outputs": [],
   "source": [
    "# 定义获取嵌入向量的函数\n",
    "def getEmbeddings(inputImageB64, max_retries=10, initial_delay=2, text=None, output_embedding_length=1024):\n",
    "    def exponential_delay(attempt):\n",
    "        return initial_delay * (2 ** attempt)\n",
    "\n",
    "    for attempt in range(max_retries):\n",
    "        try:\n",
    "            request_body = {\n",
    "                \"inputText\": text,\n",
    "                \"inputImage\": inputImageB64,\n",
    "                \"embeddingConfig\": {\n",
    "                    \"outputEmbeddingLength\": output_embedding_length\n",
    "                }\n",
    "            }\n",
    "\n",
    "            body = json.dumps(request_body)\n",
    "            response = bedrock.invoke_model(\n",
    "                body=body,\n",
    "                modelId=EMBEDDING_MODEL_ID,\n",
    "                accept=\"application/json\",\n",
    "                contentType=\"application/json\")\n",
    "            response_body = json.loads(response.get(\"body\").read())\n",
    "            return np.array([response_body.get(\"embedding\")]).astype(np.float32)\n",
    "        except ClientError as e:\n",
    "            if attempt == max_retries - 1:\n",
    "                raise  # If this was the last attempt, re-raise the exception\n",
    "\n",
    "            delay = exponential_delay(attempt)\n",
    "            print(f\"{e}\")\n",
    "            print(f\"请求失败。{delay} 秒后重试...\")\n",
    "            time.sleep(delay)\n",
    "\n",
    "    # If we've exhausted all retries\n",
    "    raise Exception(\"达到最大重试次数。无法获取嵌入向量。\")\n",
    "\n",
    "def list_s3_images(s3_client, bucket, prefix):\n",
    "    \"\"\"List image files in S3 bucket with given prefix\"\"\"\n",
    "    image_extensions = ['.jpg', '.jpeg', '.png', '.webp', '.gif', '.bmp', '.tiff']\n",
    "\n",
    "    paginator = s3_client.get_paginator('list_objects_v2')\n",
    "    pages = paginator.paginate(Bucket=bucket, Prefix=prefix)\n",
    "\n",
    "    image_keys = []\n",
    "\n",
    "    for page in pages:\n",
    "        if 'Contents' not in page:\n",
    "            continue\n",
    "\n",
    "        for obj in page['Contents']:\n",
    "            key = obj['Key']\n",
    "            if any(key.lower().endswith(ext) for ext in image_extensions):\n",
    "                image_keys.append(key)\n",
    "\n",
    "    return image_keys"
   ]
  },
  {
   "cell_type": "code",
   "execution_count": null,
   "metadata": {},
   "outputs": [],
   "source": [
    "def import_data_to_opensearch(s3_image_path):\n",
    "    s3_client = boto3.client('s3')\n",
    "    print(s3_image_path)\n",
    "    image_s3_path_list = list_s3_images(s3_client, BUCKET_NAME, Prefix)\n",
    "\n",
    "    # 处理每个图像\n",
    "    successful_imports = 0\n",
    "    failed_imports = 0\n",
    "    \n",
    "    actions = []\n",
    "    for image_key in tqdm(image_s3_path_list, desc=\"处理图像\"):\n",
    "        try:\n",
    "            s3_uri = f\"s3://{BUCKET_NAME}/{image_key}\"\n",
    "            print(f\"Processing image: {s3_uri}\")\n",
    "            response = s3_client.get_object(Bucket=BUCKET_NAME, Key=image_key)\n",
    "            image_content = response['Body'].read()\n",
    "            image_base64 = base64.b64encode(image_content).decode('utf-8')\n",
    "            embedding = getEmbeddings(\n",
    "                image_base64,\n",
    "                text=None,\n",
    "                output_embedding_length=EMBEDDING_LENGTH\n",
    "            )[0].tolist()\n",
    "\n",
    "            # 生成唯一的图像哈希（这里简单使用文件名和时间戳）\n",
    "            pic_hash = hashlib.md5(str(embedding).encode('utf-8')).hexdigest()\n",
    "            # 准备文档\n",
    "            doc = {\n",
    "                '_index': OPENSEARCH_INDEX_NAME,\n",
    "                '_source': {\n",
    "                    'pic_emb': embedding,\n",
    "                    's3_uri': s3_uri,  # 这里使用本地路径，也可以上传到 S3 并使用 S3 URI\n",
    "                    'pic_name': os.path.basename(image_key),\n",
    "                    'pic_hash': pic_hash\n",
    "                }\n",
    "            }\n",
    "\n",
    "            actions.append(doc)\n",
    "            # 每 100 个文档批量导入一次\n",
    "            if len(actions) >= 100:\n",
    "                success, failed = helpers.bulk(os_client, actions, stats_only=True)\n",
    "                successful_imports += success\n",
    "                failed_imports += failed\n",
    "                actions = []\n",
    "        except Exception as e:\n",
    "            print(f\"处理图像 {img_path} 时出错: {e}\")\n",
    "            failed_imports += 1\n",
    "\n",
    "    # 导入剩余的文档\n",
    "    if actions:\n",
    "        try:\n",
    "            success, failed = helpers.bulk(os_client, actions, stats_only=True)\n",
    "            successful_imports += success\n",
    "            failed_imports += failed\n",
    "        except Exception as e:\n",
    "            print(f\"批量导入时出错: {e}\")\n",
    "            failed_imports += len(actions)\n",
    "            \n",
    "    print(f\"导入完成: {successful_imports} 成功, {failed_imports} 失败\")"
   ]
  },
  {
   "cell_type": "markdown",
   "metadata": {},
   "source": [
    "#### 注入S3路径的图片"
   ]
  },
  {
   "cell_type": "code",
   "execution_count": null,
   "metadata": {},
   "outputs": [],
   "source": [
    "s3_image_path=f\"s3://{BUCKET_NAME}/{Prefix}/\"\n",
    "import_data_to_opensearch(s3_image_path)"
   ]
  },
  {
   "cell_type": "markdown",
   "metadata": {},
   "source": [
    "## 5. 测试效果"
   ]
  },
  {
   "cell_type": "code",
   "execution_count": null,
   "metadata": {},
   "outputs": [],
   "source": [
    "def search_by_aos_knn(os_client, q_embedding, index_name, size=10):\n",
    "    #Note: 查询时无需指定排序方式，最临近的向量分数越高，做过归一化(0.0~1.0)\n",
    "    #精准Knn的查询语法参考 https://opensearch.org/docs/latest/search-plugins/knn/knn-score-script/\n",
    "    #模糊Knn的查询语法参考 https://opensearch.org/docs/latest/search-plugins/knn/approximate-knn/\n",
    "    #这里采用的是模糊查询\n",
    "    query = {\n",
    "        \"size\": size,\n",
    "        \"query\": {\n",
    "            \"knn\": {\n",
    "                \"pic_emb\": {\n",
    "                    \"vector\": q_embedding,\n",
    "                    \"k\": size\n",
    "                }\n",
    "            }\n",
    "        }\n",
    "    }\n",
    "\n",
    "    opensearch_knn_respose = []\n",
    "    query_response = os_client.search(\n",
    "        body=query,\n",
    "        index=index_name\n",
    "    )\n",
    "    opensearch_knn_respose = [{'score':item['_score'],'s3_uri':item['_source']['s3_uri'], 'pic_name':item['_source']['pic_name'], \"id\": item[\"_id\"]}  for item in query_response[\"hits\"][\"hits\"]]\n",
    "    return opensearch_knn_respose"
   ]
  },
  {
   "cell_type": "code",
   "execution_count": null,
   "metadata": {},
   "outputs": [],
   "source": [
    "query_image_path='./imgs/car_0.png'\n",
    "with open(query_image_path, 'rb') as f:\n",
    "    bytes_data = f.read()\n",
    "    input_image_base64 = base64.b64encode(bytes_data).decode('utf-8')\n",
    "    embedding = getEmbeddings(input_image_base64, text=None, output_embedding_length=EMBEDDING_LENGTH)[0]\n",
    "\n",
    "opensearch_knn_respose = search_by_aos_knn(os_client=os_client, q_embedding=embedding, index_name=OPENSEARCH_INDEX_NAME, size=10)\n",
    "for result in opensearch_knn_respose:\n",
    "    print(result)"
   ]
  },
  {
   "cell_type": "markdown",
   "metadata": {},
   "source": [
    "## 6. 清理Index"
   ]
  },
  {
   "cell_type": "code",
   "execution_count": null,
   "metadata": {},
   "outputs": [],
   "source": [
    "def delete_aoss_index(os_client, index_name):\n",
    "    try:\n",
    "        # 检查索引是否存在\n",
    "        if os_client.indices.exists(index=index_name):\n",
    "            # 删除索引\n",
    "            response = os_client.indices.delete(index=index_name)\n",
    "            print(f\"索引 '{index_name}' 已成功删除\")\n",
    "            return response\n",
    "        else:\n",
    "            print(f\"索引 '{index_name}' 不存在，无需删除\")\n",
    "            return {\"acknowledged\": True, \"message\": f\"索引 '{index_name}' 不存在\"}\n",
    "            \n",
    "    except Exception as e:\n",
    "        print(f\"删除索引 '{index_name}' 时发生错误: {str(e)}\")\n",
    "        # 可以选择重新抛出异常或返回错误信息\n",
    "        raise e\n",
    "\n",
    "delete_aoss_index(os_client, OPENSEARCH_INDEX_NAME)"
   ]
  }
 ],
 "metadata": {
  "kernelspec": {
   "display_name": "conda_pytorch_p310",
   "language": "python",
   "name": "conda_pytorch_p310"
  },
  "language_info": {
   "codemirror_mode": {
    "name": "ipython",
    "version": 3
   },
   "file_extension": ".py",
   "mimetype": "text/x-python",
   "name": "python",
   "nbconvert_exporter": "python",
   "pygments_lexer": "ipython3",
   "version": "3.10.14"
  }
 },
 "nbformat": 4,
 "nbformat_minor": 4
}
